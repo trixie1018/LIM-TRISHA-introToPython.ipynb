{
 "cells": [
  {
   "cell_type": "markdown",
   "id": "d0909204-b097-4804-a3ae-a6c500bf44a2",
   "metadata": {},
   "source": [
    "# Assignment: Intro to Python\n",
    "\n",
    "## Instructions\n",
    "\n",
    "This is the template file for the assignment of Module 4 called \"Intro to Python.\" Please carefully follow the instructions below.\n",
    "\n",
    "1. Rename this file by filling out your surname and first name in the file name. For example, if your surname is Ilagan and if your first name is Joben, then rename the file to ILAGAN-JOBEN-introToPython.ipynb.\n",
    "2. Fill out the markdown cell just above `Problem 1` with your student details as indicated.  \n",
    "3. To submit this file, first, upload your file to your GitHub repository and, second, submit your repository link to the assignment on Canvas.\n"
   ]
  },
  {
   "cell_type": "markdown",
   "id": "b23ee3e7-b7cf-4308-9039-f964ece290ae",
   "metadata": {},
   "source": [
    "## Student Details\n",
    "\n",
    "ID Number:  213482\n",
    "Surname:  Lim\n",
    "Year and Course: 2 BS ITE "
   ]
  },
  {
   "cell_type": "markdown",
   "id": "65851df5-b5ac-4b96-8eaf-a8642ad1ef23",
   "metadata": {
    "tags": []
   },
   "source": [
    "## Problem 1 (5 points)\n",
    "\n",
    "This is the only problem in this assignment.  \n",
    "\n",
    "Overall prompt:  \n",
    "**Write a program that prompts the user to input three positive integers and outputs the average of those three positive integers.**  \n",
    "\n",
    "The program must follow these specifications:  \n",
    "1. Accept the user's input numbers one at a time. Use this format:  \n",
    "`Enter first number: {firstnumber}`  \n",
    "`Enter second number: {secondnumber}`  \n",
    "`Enter third number: {thirdnumber}`  \n",
    "2. The output should display using this format:  \n",
    "`The average is {average}.`  \n",
    "3. The program must, at some point, call a function called `three_number_average` that accepts three arguments and returns the average of those three arguments.  \n",
    "\n",
    "### Sample input and output\n",
    "\n",
    "Sample Input:  \n",
    "`Enter first number: 1`  \n",
    "`Enter second number: 2`  \n",
    "`Enter third number: 3`  \n",
    "Sample Output:  \n",
    "`The average is 2.0`  \n",
    "\n",
    "Sample Input:  \n",
    "`Enter first number: 1`  \n",
    "`Enter second number: 1`  \n",
    "`Enter third number: 1`  \n",
    "Sample Output:  \n",
    "`The average is 1.0`  \n",
    "\n",
    "Sample Input:\n",
    "`Enter first number: 2`  \n",
    "`Enter second number: 4`  \n",
    "`Enter third number: 6`  \n",
    "Sample Output:  \n",
    "`The average is 4.0`  "
   ]
  },
  {
   "cell_type": "code",
   "execution_count": null,
   "id": "10243e03-a960-4dcd-8be1-4946fbfe84cf",
   "metadata": {},
   "outputs": [],
   "source": [
    "def three_number_average(firstnumber,secondnumber,thirdnumber):\n",
    "    \n",
    "    constant='The average is '\n",
    "    number=str((firstnumber+secondnumber+thirdnumber)/3)\n",
    "    \n",
    "    return constant+number"
   ]
  }
 ],
 "metadata": {
  "kernelspec": {
   "display_name": "Python 3.10.6 64-bit",
   "language": "python",
   "name": "python3"
  },
  "language_info": {
   "codemirror_mode": {
    "name": "ipython",
    "version": 3
   },
   "file_extension": ".py",
   "mimetype": "text/x-python",
   "name": "python",
   "nbconvert_exporter": "python",
   "pygments_lexer": "ipython3",
   "version": "3.10.6"
  },
  "vscode": {
   "interpreter": {
    "hash": "aee8b7b246df8f9039afb4144a1f6fd8d2ca17a180786b69acc140d282b71a49"
   }
  }
 },
 "nbformat": 4,
 "nbformat_minor": 5
}
